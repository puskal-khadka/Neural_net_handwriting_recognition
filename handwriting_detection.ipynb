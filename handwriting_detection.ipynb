{
 "cells": [
  {
   "cell_type": "code",
   "execution_count": 59,
   "metadata": {},
   "outputs": [
    {
     "name": "stdout",
     "output_type": "stream",
     "text": [
      "[[1 0 0 ... 0 0 0]\n",
      " [0 0 0 ... 0 0 0]\n",
      " [1 0 0 ... 0 0 0]\n",
      " ...\n",
      " [7 0 0 ... 0 0 0]\n",
      " [6 0 0 ... 0 0 0]\n",
      " [9 0 0 ... 0 0 0]]\n"
     ]
    }
   ],
   "source": [
    "import numpy as np\n",
    "import matplotlib.pyplot as pt\n",
    "import pandas as pd\n",
    "\n",
    "from sklearn.tree import DecisionTreeClassifier\n",
    "\n",
    "data=pd.read_csv('handwritten_train.csv').values  \n",
    "#--puskal-- .values convert data set to numpy array form ie in matrix from. note: in past we use .as_matrix which is now replaced by .values\n",
    "print(data)"
   ]
  },
  {
   "cell_type": "code",
   "execution_count": 60,
   "metadata": {},
   "outputs": [
    {
     "data": {
      "image/png": "[encoded data removed]",
      "text/plain": [
       "<Figure size 432x288 with 1 Axes>"
      ]
     },
     "metadata": {
      "needs_background": "light"
     },
     "output_type": "display_data"
    },
    {
     "name": "stdout",
     "output_type": "stream",
     "text": [
      "above number is  [3] \t\t---puskal khadka ---\n",
      "\n",
      "\n",
      "accuracy is 84.56666666666666\n"
     ]
    }
   ],
   "source": [
    "#now spliting data \n",
    "classifier=DecisionTreeClassifier()\n",
    "train_set=data[0:30000, 1:]\n",
    "train_label=data[0:30000, 0]\n",
    "test_set=data[30000:,1:]\n",
    "test_label=data[30000:,0]\n",
    "\n",
    "#train classifier\n",
    "classifier.fit(train_set, train_label)\n",
    "\n",
    "\n",
    "#now i am testing data from test_set \n",
    "\n",
    "#below code to show what is in test data that we want to predict\n",
    "test=test_set[7]\n",
    "test.shape=(28,28)\n",
    "pt.imshow(test,cmap='gray')\n",
    "pt.show()\n",
    "\n",
    "#this code to show our prediction i.e. for test data\n",
    "predict_label=classifier.predict([test_set[7]])\n",
    "print(\"above number is \",predict_label,\"\\t\\t---puskal khadka ---\")\n",
    "\n",
    "\n",
    "#testing accuracy\n",
    "predict=classifier.predict(test_set)\n",
    "c=0\n",
    "for i in range(0,len(test_set)):\n",
    "    actual=test_label[i]\n",
    "    if predict[i]==actual:\n",
    "        c+=1\n",
    "    else:\n",
    "        continue\n",
    "\n",
    "final_accuracy=c/len(test_set)*100\n",
    "print(\"\\n\\naccuracy is\",final_accuracy)\n",
    "        \n",
    "\n",
    "\n",
    "\n",
    "\n",
    "\n",
    "\n",
    "\n",
    "\n"
   ]
  },
  {
   "cell_type": "code",
   "execution_count": null,
   "metadata": {},
   "outputs": [],
   "source": []
  },
  {
   "cell_type": "code",
   "execution_count": null,
   "metadata": {},
   "outputs": [],
   "source": []
  }
 ],
 "metadata": {
  "kernelspec": {
   "display_name": "Python 3",
   "language": "python",
   "name": "python3"
  },
  "language_info": {
   "codemirror_mode": {
    "name": "ipython",
    "version": 3
   },
   "file_extension": ".py",
   "mimetype": "text/x-python",
   "name": "python",
   "nbconvert_exporter": "python",
   "pygments_lexer": "ipython3",
   "version": "3.7.4"
  }
 },
 "nbformat": 4,
 "nbformat_minor": 2
}
